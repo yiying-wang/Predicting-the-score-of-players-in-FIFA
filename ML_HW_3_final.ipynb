{
 "cells": [
  {
   "cell_type": "code",
   "execution_count": 1,
   "metadata": {},
   "outputs": [],
   "source": [
    "import numpy as np\n",
    "import pandas as pd\n",
    "import scipy as sp\n",
    "import os\n",
    "import seaborn as sns\n",
    "import matplotlib.pyplot as plt\n",
    "import statsmodels.api as sm\n",
    "from sklearn import preprocessing\n",
    "from sklearn.metrics import confusion_matrix\n",
    "from sklearn.metrics import r2_score\n",
    "from sklearn.metrics import mean_squared_error\n",
    "from sklearn.model_selection import cross_val_score, cross_val_predict\n",
    "from sklearn.model_selection import cross_validate\n",
    "from sklearn.linear_model import LogisticRegression\n",
    "from sklearn.model_selection import train_test_split\n",
    "from sklearn.feature_selection import RFE\n",
    "from sklearn import metrics\n",
    "from sklearn.linear_model import Lasso\n",
    "from sklearn.linear_model import LinearRegression\n",
    "from sklearn.linear_model import Ridge\n",
    "from sklearn.model_selection import GridSearchCV"
   ]
  },
  {
   "cell_type": "markdown",
   "metadata": {},
   "source": [
    "# Load data"
   ]
  },
  {
   "cell_type": "code",
   "execution_count": 2,
   "metadata": {},
   "outputs": [
    {
     "data": {
      "text/html": [
       "<div>\n",
       "<style scoped>\n",
       "    .dataframe tbody tr th:only-of-type {\n",
       "        vertical-align: middle;\n",
       "    }\n",
       "\n",
       "    .dataframe tbody tr th {\n",
       "        vertical-align: top;\n",
       "    }\n",
       "\n",
       "    .dataframe thead th {\n",
       "        text-align: right;\n",
       "    }\n",
       "</style>\n",
       "<table border=\"1\" class=\"dataframe\">\n",
       "  <thead>\n",
       "    <tr style=\"text-align: right;\">\n",
       "      <th></th>\n",
       "      <th>ID</th>\n",
       "      <th>Name</th>\n",
       "      <th>Age</th>\n",
       "      <th>Nationality</th>\n",
       "      <th>Overall</th>\n",
       "      <th>Potential</th>\n",
       "      <th>Club</th>\n",
       "      <th>Value</th>\n",
       "      <th>Wage</th>\n",
       "      <th>International Reputation</th>\n",
       "      <th>...</th>\n",
       "      <th>Penalties</th>\n",
       "      <th>Composure</th>\n",
       "      <th>Marking</th>\n",
       "      <th>StandingTackle</th>\n",
       "      <th>SlidingTackle</th>\n",
       "      <th>GKDiving</th>\n",
       "      <th>GKHandling</th>\n",
       "      <th>GKKicking</th>\n",
       "      <th>GKPositioning</th>\n",
       "      <th>GKReflexes</th>\n",
       "    </tr>\n",
       "  </thead>\n",
       "  <tbody>\n",
       "    <tr>\n",
       "      <th>0</th>\n",
       "      <td>158023</td>\n",
       "      <td>L. Messi</td>\n",
       "      <td>31</td>\n",
       "      <td>Argentina</td>\n",
       "      <td>94</td>\n",
       "      <td>94</td>\n",
       "      <td>FC Barcelona</td>\n",
       "      <td>�110.5M</td>\n",
       "      <td>�565K</td>\n",
       "      <td>5.0</td>\n",
       "      <td>...</td>\n",
       "      <td>75.0</td>\n",
       "      <td>96.0</td>\n",
       "      <td>33.0</td>\n",
       "      <td>28.0</td>\n",
       "      <td>26.0</td>\n",
       "      <td>6.0</td>\n",
       "      <td>11.0</td>\n",
       "      <td>15.0</td>\n",
       "      <td>14.0</td>\n",
       "      <td>8.0</td>\n",
       "    </tr>\n",
       "    <tr>\n",
       "      <th>1</th>\n",
       "      <td>20801</td>\n",
       "      <td>Cristiano Ronaldo</td>\n",
       "      <td>33</td>\n",
       "      <td>Portugal</td>\n",
       "      <td>94</td>\n",
       "      <td>94</td>\n",
       "      <td>Juventus</td>\n",
       "      <td>�77M</td>\n",
       "      <td>�405K</td>\n",
       "      <td>5.0</td>\n",
       "      <td>...</td>\n",
       "      <td>85.0</td>\n",
       "      <td>95.0</td>\n",
       "      <td>28.0</td>\n",
       "      <td>31.0</td>\n",
       "      <td>23.0</td>\n",
       "      <td>7.0</td>\n",
       "      <td>11.0</td>\n",
       "      <td>15.0</td>\n",
       "      <td>14.0</td>\n",
       "      <td>11.0</td>\n",
       "    </tr>\n",
       "    <tr>\n",
       "      <th>2</th>\n",
       "      <td>190871</td>\n",
       "      <td>Neymar Jr</td>\n",
       "      <td>26</td>\n",
       "      <td>Brazil</td>\n",
       "      <td>92</td>\n",
       "      <td>93</td>\n",
       "      <td>Paris Saint-Germain</td>\n",
       "      <td>�118.5M</td>\n",
       "      <td>�290K</td>\n",
       "      <td>5.0</td>\n",
       "      <td>...</td>\n",
       "      <td>81.0</td>\n",
       "      <td>94.0</td>\n",
       "      <td>27.0</td>\n",
       "      <td>24.0</td>\n",
       "      <td>33.0</td>\n",
       "      <td>9.0</td>\n",
       "      <td>9.0</td>\n",
       "      <td>15.0</td>\n",
       "      <td>15.0</td>\n",
       "      <td>11.0</td>\n",
       "    </tr>\n",
       "    <tr>\n",
       "      <th>3</th>\n",
       "      <td>193080</td>\n",
       "      <td>De Gea</td>\n",
       "      <td>27</td>\n",
       "      <td>Spain</td>\n",
       "      <td>91</td>\n",
       "      <td>93</td>\n",
       "      <td>Manchester United</td>\n",
       "      <td>�72M</td>\n",
       "      <td>�260K</td>\n",
       "      <td>4.0</td>\n",
       "      <td>...</td>\n",
       "      <td>40.0</td>\n",
       "      <td>68.0</td>\n",
       "      <td>15.0</td>\n",
       "      <td>21.0</td>\n",
       "      <td>13.0</td>\n",
       "      <td>90.0</td>\n",
       "      <td>85.0</td>\n",
       "      <td>87.0</td>\n",
       "      <td>88.0</td>\n",
       "      <td>94.0</td>\n",
       "    </tr>\n",
       "    <tr>\n",
       "      <th>4</th>\n",
       "      <td>192985</td>\n",
       "      <td>K. De Bruyne</td>\n",
       "      <td>27</td>\n",
       "      <td>Belgium</td>\n",
       "      <td>91</td>\n",
       "      <td>92</td>\n",
       "      <td>Manchester City</td>\n",
       "      <td>�102M</td>\n",
       "      <td>�355K</td>\n",
       "      <td>4.0</td>\n",
       "      <td>...</td>\n",
       "      <td>79.0</td>\n",
       "      <td>88.0</td>\n",
       "      <td>68.0</td>\n",
       "      <td>58.0</td>\n",
       "      <td>51.0</td>\n",
       "      <td>15.0</td>\n",
       "      <td>13.0</td>\n",
       "      <td>5.0</td>\n",
       "      <td>10.0</td>\n",
       "      <td>13.0</td>\n",
       "    </tr>\n",
       "  </tbody>\n",
       "</table>\n",
       "<p>5 rows × 50 columns</p>\n",
       "</div>"
      ],
      "text/plain": [
       "       ID               Name  Age Nationality  Overall  Potential  \\\n",
       "0  158023           L. Messi   31   Argentina       94         94   \n",
       "1   20801  Cristiano Ronaldo   33    Portugal       94         94   \n",
       "2  190871          Neymar Jr   26      Brazil       92         93   \n",
       "3  193080             De Gea   27       Spain       91         93   \n",
       "4  192985       K. De Bruyne   27     Belgium       91         92   \n",
       "\n",
       "                  Club    Value   Wage  International Reputation  ...  \\\n",
       "0         FC Barcelona  �110.5M  �565K                       5.0  ...   \n",
       "1             Juventus     �77M  �405K                       5.0  ...   \n",
       "2  Paris Saint-Germain  �118.5M  �290K                       5.0  ...   \n",
       "3    Manchester United     �72M  �260K                       4.0  ...   \n",
       "4      Manchester City    �102M  �355K                       4.0  ...   \n",
       "\n",
       "   Penalties  Composure Marking StandingTackle SlidingTackle GKDiving  \\\n",
       "0       75.0       96.0    33.0           28.0          26.0      6.0   \n",
       "1       85.0       95.0    28.0           31.0          23.0      7.0   \n",
       "2       81.0       94.0    27.0           24.0          33.0      9.0   \n",
       "3       40.0       68.0    15.0           21.0          13.0     90.0   \n",
       "4       79.0       88.0    68.0           58.0          51.0     15.0   \n",
       "\n",
       "   GKHandling  GKKicking  GKPositioning  GKReflexes  \n",
       "0        11.0       15.0           14.0         8.0  \n",
       "1        11.0       15.0           14.0        11.0  \n",
       "2         9.0       15.0           15.0        11.0  \n",
       "3        85.0       87.0           88.0        94.0  \n",
       "4        13.0        5.0           10.0        13.0  \n",
       "\n",
       "[5 rows x 50 columns]"
      ]
     },
     "execution_count": 2,
     "metadata": {},
     "output_type": "execute_result"
    }
   ],
   "source": [
    "fifa = pd.read_csv(\"FIFA19data.csv\", sep=r'\\s*,\\s*', engine='python')\n",
    "fifa.head()"
   ]
  },
  {
   "cell_type": "code",
   "execution_count": 3,
   "metadata": {},
   "outputs": [],
   "source": [
    "fifa.columns = fifa.columns.str.replace(\" +\", \"_\", regex = True)"
   ]
  },
  {
   "cell_type": "markdown",
   "metadata": {},
   "source": [
    "# Clean the data"
   ]
  },
  {
   "cell_type": "code",
   "execution_count": 4,
   "metadata": {},
   "outputs": [],
   "source": [
    "# remove uninterested variables\n",
    "fifa = fifa.drop('ID', 1)\n",
    "fifa = fifa.drop('Name', 1)\n",
    "fifa = fifa.drop('Nationality', 1)\n",
    "fifa = fifa.drop('Club', 1)\n",
    "fifa = fifa.drop('Value', 1)\n",
    "fifa = fifa.drop('Wage', 1)\n",
    "fifa = fifa.drop('Body_Type', 1)\n",
    "fifa = fifa.drop('Potential', 1)"
   ]
  },
  {
   "cell_type": "code",
   "execution_count": 5,
   "metadata": {
    "scrolled": true
   },
   "outputs": [],
   "source": [
    "for col in fifa.columns:\n",
    "    fifa[col].fillna(value=fifa[col].mode()[0], inplace=True)  # impute missing values using mode"
   ]
  },
  {
   "cell_type": "code",
   "execution_count": 6,
   "metadata": {
    "scrolled": true
   },
   "outputs": [
    {
     "name": "stdout",
     "output_type": "stream",
     "text": [
      "This is column  Age\n",
      "unique values: [31 33 26 27 32 25 29 28 24 30 19 40 22 23 34 35 36 37 21 18 20 39 41 17\n",
      " 38 45 42 16 44]\n",
      "This is column  Overall\n",
      "unique values: [94 92 91 90 89 88 87 86 85 84 83 82 81 80 79 78 77 76 75 74 73 72 71 70\n",
      " 69 68 67 66 65 64 63 62 61 60 59 58 57 56 55 54 53 52 51 50 49 48 47 46]\n",
      "This is column  International_Reputation\n",
      "unique values: [5. 4. 3. 2. 1.]\n",
      "This is column  Weak_Foot\n",
      "unique values: [4. 5. 3. 2. 1.]\n",
      "This is column  Skill_Moves\n",
      "unique values: [4. 5. 1. 3. 2.]\n",
      "This is column  Work_Rate\n",
      "unique values: ['Medium/ Medium' 'High/ Low' 'High/ Medium' 'High/ High' 'Medium/ High'\n",
      " 'Medium/ Low' 'Low/ High' 'Low/ Medium' 'Low/ Low']\n",
      "This is column  Position\n",
      "unique values: ['RF' 'ST' 'LW' 'GK' 'RCM' 'LF' 'RS' 'RCB' 'LCM' 'CB' 'LDM' 'CAM' 'CDM'\n",
      " 'LS' 'LCB' 'RM' 'LAM' 'LM' 'LB' 'RDM' 'RW' 'CM' 'RB' 'RAM' 'CF' 'RWB'\n",
      " 'LWB']\n",
      "This is column  Contract_Valid_Until\n",
      "unique values: ['2021' '2022' '2020' '2023' '2019' '2024' '30-Jun-19' '2025' '2026'\n",
      " '31-Dec-18' '2018' '31-May-20' '30-Jun-20' '31-May-19' '31-Dec-19'\n",
      " '1-Jan-19' '1-Jun-19' '4-Jan-19' '31-Jan-19' '7-Jan-19' '2-Jan-19'\n",
      " '6-Jan-19' '14-Oct-19' '3-Jan-19' '4-May-19' '12-Jan-19' '25-Jan-19'\n",
      " '18-Jan-19' '1-Dec-19' '30-Nov-18' '27-Feb-20' '5-Jan-19' '15-Jan-19'\n",
      " '30-Jan-19' '11-Jan-19' '20-Jan-19']\n",
      "This is column  Crossing\n",
      "unique values: [84. 79. 17. 93. 81. 86. 77. 66. 13. 62. 88. 55. 68. 82. 75. 15. 14. 70.\n",
      " 58. 78. 52. 90. 64. 87. 60. 12. 69. 46. 30. 80. 11. 57. 83. 85. 20. 73.\n",
      " 53. 72. 36. 44. 45. 40. 27. 76. 63. 65. 48. 61. 47. 89. 19. 49.  9. 71.\n",
      " 74. 24. 18. 38. 92. 56. 67. 35. 25. 50. 29. 10. 42. 54. 59. 91. 51. 43.\n",
      " 33. 34. 16. 39. 28.  8. 21. 23. 41. 32. 37. 31. 22.  7. 26.  6.  5.]\n"
     ]
    }
   ],
   "source": [
    "for col in fifa.columns[0:9]:\n",
    "    print(\"This is column \", col)\n",
    "    print(\"unique values:\", fifa[col].unique())"
   ]
  },
  {
   "cell_type": "code",
   "execution_count": 7,
   "metadata": {},
   "outputs": [],
   "source": [
    "fifa[\"Work_Rate_good\"] = fifa[\"Work_Rate\"].str.split(\"/\", expand = True)[0].str.strip()\n",
    "fifa[\"Work_Rate_bad\"] = fifa[\"Work_Rate\"].str.split(\"/\", expand = True)[1].str.strip()\n",
    "fifa = fifa.drop('Work_Rate', 1)"
   ]
  },
  {
   "cell_type": "code",
   "execution_count": 8,
   "metadata": {},
   "outputs": [],
   "source": [
    "fifa[\"Contract_Valid_Until\"] = fifa[\"Contract_Valid_Until\"].str.replace(\".*-\", \"20\", regex = True)"
   ]
  },
  {
   "cell_type": "code",
   "execution_count": 9,
   "metadata": {},
   "outputs": [],
   "source": [
    "factors = ['International_Reputation', 'Weak_Foot', 'Skill_Moves', 'Position', 'Contract_Valid_Until', 'Work_Rate_good', 'Work_Rate_bad']\n",
    "for var in factors:\n",
    "    cat_list = pd.get_dummies(fifa[var], prefix=var)\n",
    "    fifa = pd.concat([fifa,cat_list], axis = 1)\n",
    "    fifa = fifa.drop(var, 1)\n",
    "    fifa = fifa.iloc[:,0:len(fifa.columns)-1]"
   ]
  },
  {
   "cell_type": "code",
   "execution_count": 10,
   "metadata": {},
   "outputs": [],
   "source": [
    "X = fifa.copy()\n",
    "X = X.drop('Overall', 1)\n",
    "Y = fifa.copy()\n",
    "Y = Y['Overall']"
   ]
  },
  {
   "cell_type": "code",
   "execution_count": 11,
   "metadata": {},
   "outputs": [
    {
     "data": {
      "text/html": [
       "<div>\n",
       "<style scoped>\n",
       "    .dataframe tbody tr th:only-of-type {\n",
       "        vertical-align: middle;\n",
       "    }\n",
       "\n",
       "    .dataframe tbody tr th {\n",
       "        vertical-align: top;\n",
       "    }\n",
       "\n",
       "    .dataframe thead th {\n",
       "        text-align: right;\n",
       "    }\n",
       "</style>\n",
       "<table border=\"1\" class=\"dataframe\">\n",
       "  <thead>\n",
       "    <tr style=\"text-align: right;\">\n",
       "      <th></th>\n",
       "      <th>Age</th>\n",
       "      <th>Crossing</th>\n",
       "      <th>Finishing</th>\n",
       "      <th>HeadingAccuracy</th>\n",
       "      <th>ShortPassing</th>\n",
       "      <th>Volleys</th>\n",
       "      <th>Dribbling</th>\n",
       "      <th>Curve</th>\n",
       "      <th>FKAccuracy</th>\n",
       "      <th>LongPassing</th>\n",
       "      <th>...</th>\n",
       "      <th>Contract_Valid_Until_2020</th>\n",
       "      <th>Contract_Valid_Until_2021</th>\n",
       "      <th>Contract_Valid_Until_2022</th>\n",
       "      <th>Contract_Valid_Until_2023</th>\n",
       "      <th>Contract_Valid_Until_2024</th>\n",
       "      <th>Contract_Valid_Until_2025</th>\n",
       "      <th>Work_Rate_good_High</th>\n",
       "      <th>Work_Rate_good_Low</th>\n",
       "      <th>Work_Rate_bad_High</th>\n",
       "      <th>Work_Rate_bad_Low</th>\n",
       "    </tr>\n",
       "  </thead>\n",
       "  <tbody>\n",
       "    <tr>\n",
       "      <th>0</th>\n",
       "      <td>31</td>\n",
       "      <td>84.0</td>\n",
       "      <td>95.0</td>\n",
       "      <td>70.0</td>\n",
       "      <td>90.0</td>\n",
       "      <td>86.0</td>\n",
       "      <td>97.0</td>\n",
       "      <td>93.0</td>\n",
       "      <td>94.0</td>\n",
       "      <td>87.0</td>\n",
       "      <td>...</td>\n",
       "      <td>0</td>\n",
       "      <td>1</td>\n",
       "      <td>0</td>\n",
       "      <td>0</td>\n",
       "      <td>0</td>\n",
       "      <td>0</td>\n",
       "      <td>0</td>\n",
       "      <td>0</td>\n",
       "      <td>0</td>\n",
       "      <td>0</td>\n",
       "    </tr>\n",
       "    <tr>\n",
       "      <th>1</th>\n",
       "      <td>33</td>\n",
       "      <td>84.0</td>\n",
       "      <td>94.0</td>\n",
       "      <td>89.0</td>\n",
       "      <td>81.0</td>\n",
       "      <td>87.0</td>\n",
       "      <td>88.0</td>\n",
       "      <td>81.0</td>\n",
       "      <td>76.0</td>\n",
       "      <td>77.0</td>\n",
       "      <td>...</td>\n",
       "      <td>0</td>\n",
       "      <td>0</td>\n",
       "      <td>1</td>\n",
       "      <td>0</td>\n",
       "      <td>0</td>\n",
       "      <td>0</td>\n",
       "      <td>1</td>\n",
       "      <td>0</td>\n",
       "      <td>0</td>\n",
       "      <td>1</td>\n",
       "    </tr>\n",
       "    <tr>\n",
       "      <th>2</th>\n",
       "      <td>26</td>\n",
       "      <td>79.0</td>\n",
       "      <td>87.0</td>\n",
       "      <td>62.0</td>\n",
       "      <td>84.0</td>\n",
       "      <td>84.0</td>\n",
       "      <td>96.0</td>\n",
       "      <td>88.0</td>\n",
       "      <td>87.0</td>\n",
       "      <td>78.0</td>\n",
       "      <td>...</td>\n",
       "      <td>0</td>\n",
       "      <td>0</td>\n",
       "      <td>1</td>\n",
       "      <td>0</td>\n",
       "      <td>0</td>\n",
       "      <td>0</td>\n",
       "      <td>1</td>\n",
       "      <td>0</td>\n",
       "      <td>0</td>\n",
       "      <td>0</td>\n",
       "    </tr>\n",
       "  </tbody>\n",
       "</table>\n",
       "<p>3 rows × 85 columns</p>\n",
       "</div>"
      ],
      "text/plain": [
       "   Age  Crossing  Finishing  HeadingAccuracy  ShortPassing  Volleys  \\\n",
       "0   31      84.0       95.0             70.0          90.0     86.0   \n",
       "1   33      84.0       94.0             89.0          81.0     87.0   \n",
       "2   26      79.0       87.0             62.0          84.0     84.0   \n",
       "\n",
       "   Dribbling  Curve  FKAccuracy  LongPassing  ...  Contract_Valid_Until_2020  \\\n",
       "0       97.0   93.0        94.0         87.0  ...                          0   \n",
       "1       88.0   81.0        76.0         77.0  ...                          0   \n",
       "2       96.0   88.0        87.0         78.0  ...                          0   \n",
       "\n",
       "   Contract_Valid_Until_2021  Contract_Valid_Until_2022  \\\n",
       "0                          1                          0   \n",
       "1                          0                          1   \n",
       "2                          0                          1   \n",
       "\n",
       "   Contract_Valid_Until_2023  Contract_Valid_Until_2024  \\\n",
       "0                          0                          0   \n",
       "1                          0                          0   \n",
       "2                          0                          0   \n",
       "\n",
       "   Contract_Valid_Until_2025  Work_Rate_good_High  Work_Rate_good_Low  \\\n",
       "0                          0                    0                   0   \n",
       "1                          0                    1                   0   \n",
       "2                          0                    1                   0   \n",
       "\n",
       "   Work_Rate_bad_High  Work_Rate_bad_Low  \n",
       "0                   0                  0  \n",
       "1                   0                  1  \n",
       "2                   0                  0  \n",
       "\n",
       "[3 rows x 85 columns]"
      ]
     },
     "execution_count": 11,
     "metadata": {},
     "output_type": "execute_result"
    }
   ],
   "source": [
    "X.head(3)"
   ]
  },
  {
   "cell_type": "code",
   "execution_count": 12,
   "metadata": {},
   "outputs": [
    {
     "data": {
      "text/plain": [
       "0    94\n",
       "1    94\n",
       "2    92\n",
       "Name: Overall, dtype: int64"
      ]
     },
     "execution_count": 12,
     "metadata": {},
     "output_type": "execute_result"
    }
   ],
   "source": [
    "Y.head(3)"
   ]
  },
  {
   "cell_type": "markdown",
   "metadata": {},
   "source": [
    "# Q1\n",
    "#### Randomly split the data into test and training sets such that only 10% of the records are in the training set.\n",
    "#### Fit a simple linear regression model to predict the overall score of a player and test your model against the test set. \n",
    "#### Calculate the R^2 for the predictions you made on the test set. How many features are used in this model?"
   ]
  },
  {
   "cell_type": "code",
   "execution_count": 13,
   "metadata": {},
   "outputs": [],
   "source": [
    "# 10% in training set and 90% in test set\n",
    "X_train,X_test,y_train,y_test=train_test_split(X,Y, test_size=0.9, random_state=31)"
   ]
  },
  {
   "cell_type": "markdown",
   "metadata": {},
   "source": [
    "Simple linear regression model"
   ]
  },
  {
   "cell_type": "code",
   "execution_count": 14,
   "metadata": {},
   "outputs": [
    {
     "name": "stdout",
     "output_type": "stream",
     "text": [
      "The R^2 for the predictions on the test set is:  0.8903296486814734\n"
     ]
    }
   ],
   "source": [
    "lm1 = LinearRegression()\n",
    "lm1.fit(X_train, y_train)\n",
    "lm1_predictions = lm1.predict(X_test)              # Use 10% train data to train lm1 and predict 90% test data \n",
    "lm1_r2 = r2_score(y_test,lm1_predictions)\n",
    "print(\"The R^2 for the predictions on the test set is: \", lm1_r2)"
   ]
  },
  {
   "cell_type": "code",
   "execution_count": 15,
   "metadata": {},
   "outputs": [
    {
     "name": "stdout",
     "output_type": "stream",
     "text": [
      "The number of features in model lm1 is:  85\n"
     ]
    }
   ],
   "source": [
    "coeff_used1 = np.sum(lm1.coef_!=0)\n",
    "print(\"The number of features in model lm1 is: \", coeff_used1)"
   ]
  },
  {
   "cell_type": "markdown",
   "metadata": {},
   "source": [
    "# Q2\n",
    "#### Fit a simple linear regression model with 5-fold cross validation and predict the overall score of players in the test set. \n",
    "#### Calculate R^2 for the predictions and compare with the R^2 from Q1. "
   ]
  },
  {
   "cell_type": "code",
   "execution_count": 16,
   "metadata": {},
   "outputs": [
    {
     "data": {
      "text/plain": [
       "{'fit_time': array([0.1060648 , 0.07323623, 0.02944803, 0.03090096, 0.0310421 ]),\n",
       " 'score_time': array([0.00512099, 0.00271177, 0.00257611, 0.00234294, 0.00252485]),\n",
       " 'test_r2': array([0.89619912, 0.89501323, 0.89464921, 0.89826485, 0.88980994]),\n",
       " 'train_r2': array([0.89593156, 0.8961087 , 0.89624749, 0.89534702, 0.89742982]),\n",
       " 'test_neg_mean_squared_error': array([-4.84827414, -5.12426786, -4.8772421 , -4.98889166, -5.19249438]),\n",
       " 'train_neg_mean_squared_error': array([-4.97647604, -4.91332338, -4.97203373, -4.94338024, -4.89397116])}"
      ]
     },
     "execution_count": 16,
     "metadata": {},
     "output_type": "execute_result"
    }
   ],
   "source": [
    "lmcv = cross_validate(lm1, X_test, y_test, cv=5, scoring=('r2', 'neg_mean_squared_error'),\n",
    "                      return_train_score=True)\n",
    "lmcv"
   ]
  },
  {
   "cell_type": "code",
   "execution_count": 17,
   "metadata": {},
   "outputs": [],
   "source": [
    "lmcv_r2 = lmcv['test_r2'].mean()\n",
    "lmcv_mse = -lmcv['test_neg_mean_squared_error'].mean()"
   ]
  },
  {
   "cell_type": "code",
   "execution_count": 18,
   "metadata": {},
   "outputs": [],
   "source": [
    "lm1_mse = mean_squared_error(y_test, lm1_predictions)"
   ]
  },
  {
   "cell_type": "code",
   "execution_count": 19,
   "metadata": {},
   "outputs": [],
   "source": [
    "lm1rfe = RFE(lm1, 60)\n",
    "lm1rfecv = cross_validate(lm1rfe, X_test, y_test, cv = 5,\n",
    "                         scoring=('r2', 'neg_mean_squared_error'), return_train_score=True)\n",
    "lm1rfecv_r2 = lm1rfecv['test_r2'].mean()\n",
    "lm1rfecv_mse = -lm1rfecv['test_neg_mean_squared_error'].mean()"
   ]
  },
  {
   "cell_type": "code",
   "execution_count": 36,
   "metadata": {},
   "outputs": [
    {
     "data": {
      "text/html": [
       "<div>\n",
       "<style scoped>\n",
       "    .dataframe tbody tr th:only-of-type {\n",
       "        vertical-align: middle;\n",
       "    }\n",
       "\n",
       "    .dataframe tbody tr th {\n",
       "        vertical-align: top;\n",
       "    }\n",
       "\n",
       "    .dataframe thead th {\n",
       "        text-align: right;\n",
       "    }\n",
       "</style>\n",
       "<table border=\"1\" class=\"dataframe\">\n",
       "  <thead>\n",
       "    <tr style=\"text-align: right;\">\n",
       "      <th></th>\n",
       "      <th>model 1 - linear regression</th>\n",
       "      <th>model 2.1 - linear regression with CV</th>\n",
       "      <th>model 2.3 - linear regression with RFE and CV</th>\n",
       "    </tr>\n",
       "  </thead>\n",
       "  <tbody>\n",
       "    <tr>\n",
       "      <th>R^2 on test set</th>\n",
       "      <td>0.890330</td>\n",
       "      <td>0.894787</td>\n",
       "      <td>0.889298</td>\n",
       "    </tr>\n",
       "    <tr>\n",
       "      <th>MSE on test set</th>\n",
       "      <td>5.219964</td>\n",
       "      <td>5.006234</td>\n",
       "      <td>5.266809</td>\n",
       "    </tr>\n",
       "    <tr>\n",
       "      <th>number of features used</th>\n",
       "      <td>85.000000</td>\n",
       "      <td>85.000000</td>\n",
       "      <td>60.000000</td>\n",
       "    </tr>\n",
       "  </tbody>\n",
       "</table>\n",
       "</div>"
      ],
      "text/plain": [
       "                         model 1 - linear regression  \\\n",
       "R^2 on test set                             0.890330   \n",
       "MSE on test set                             5.219964   \n",
       "number of features used                    85.000000   \n",
       "\n",
       "                         model 2.1 - linear regression with CV  \\\n",
       "R^2 on test set                                       0.894787   \n",
       "MSE on test set                                       5.006234   \n",
       "number of features used                              85.000000   \n",
       "\n",
       "                         model 2.3 - linear regression with RFE and CV  \n",
       "R^2 on test set                                               0.889298  \n",
       "MSE on test set                                               5.266809  \n",
       "number of features used                                      60.000000  "
      ]
     },
     "execution_count": 36,
     "metadata": {},
     "output_type": "execute_result"
    }
   ],
   "source": [
    "pd.DataFrame([[lm1_r2, lmcv_r2, lm1rfecv_r2],\n",
    "             [lm1_mse, lmcv_mse, lm1rfecv_mse],\n",
    "             [coeff_used1, coeff_used1, 60]],\n",
    "             columns = [\"model 1 - linear regression\",\n",
    "                        \"model 2.1 - linear regression with CV\",\n",
    "                        \"model 2.3 - linear regression with RFE and CV\"], \n",
    "             index = [\"R^2 on test set\", \"MSE on test set\", \"number of features used\"])\n",
    "# R^2 increases after applying cross validation "
   ]
  },
  {
   "cell_type": "markdown",
   "metadata": {},
   "source": [
    "# Q3\n",
    "#### Using the training data from question 1, fit a Lasso regression (use default alpha) to predict the overall scores of players in the test set.\n",
    "#### How many features are being used by the model? \n",
    "#### Calculate the R^2 for the predictions you made on the test set and compare with the R^2 from Q1. "
   ]
  },
  {
   "cell_type": "code",
   "execution_count": 21,
   "metadata": {},
   "outputs": [],
   "source": [
    "lasso = Lasso()\n",
    "lasso.fit(X_train,y_train)\n",
    "lasso1_predictions = lasso.predict(X_test)\n",
    "lasso_train_score=lasso.score(X_train,y_train)\n",
    "lasso_test_score=lasso.score(X_test,y_test)\n",
    "coeff_used3 = np.sum(lasso.coef_!=0)"
   ]
  },
  {
   "cell_type": "code",
   "execution_count": 22,
   "metadata": {},
   "outputs": [
    {
     "name": "stdout",
     "output_type": "stream",
     "text": [
      "lasso number of features used:  23\n",
      "lasso training score: 0.8584100702105248\n",
      "lasso test score:  0.8508221432029555\n"
     ]
    }
   ],
   "source": [
    "print(\"lasso number of features used: \", coeff_used3)\n",
    "print(\"lasso training score:\", lasso_train_score)\n",
    "print(\"lasso test score: \", lasso_test_score)"
   ]
  },
  {
   "cell_type": "code",
   "execution_count": 23,
   "metadata": {},
   "outputs": [],
   "source": [
    "# checking adjusted R2\n",
    "lm1_train_score = r2_score(y_train, lm1.predict(X_train))   # .score() returns the coefficient of determination R^2 of the prediction.\n",
    "lm1_train_r2adj = 1-(1-lm1_train_score)*((len(X_train)-1)/(len(X_train)-coeff_used1-1))   # adjusted R^2\n",
    "\n",
    "lasso_train_r2adj = 1-(1-lasso_train_score)*((len(X_train)-1)/(len(X_train)-coeff_used3-1))"
   ]
  },
  {
   "cell_type": "code",
   "execution_count": 24,
   "metadata": {},
   "outputs": [
    {
     "data": {
      "text/html": [
       "<div>\n",
       "<style scoped>\n",
       "    .dataframe tbody tr th:only-of-type {\n",
       "        vertical-align: middle;\n",
       "    }\n",
       "\n",
       "    .dataframe tbody tr th {\n",
       "        vertical-align: top;\n",
       "    }\n",
       "\n",
       "    .dataframe thead th {\n",
       "        text-align: right;\n",
       "    }\n",
       "</style>\n",
       "<table border=\"1\" class=\"dataframe\">\n",
       "  <thead>\n",
       "    <tr style=\"text-align: right;\">\n",
       "      <th></th>\n",
       "      <th>model 1 - linear regression in Q1</th>\n",
       "      <th>model 3 - lasso regression in Q3</th>\n",
       "    </tr>\n",
       "  </thead>\n",
       "  <tbody>\n",
       "    <tr>\n",
       "      <th>R^2 on train set</th>\n",
       "      <td>0.902304</td>\n",
       "      <td>0.858410</td>\n",
       "    </tr>\n",
       "    <tr>\n",
       "      <th>Adjusted R^2 on train set</th>\n",
       "      <td>0.897515</td>\n",
       "      <td>0.856597</td>\n",
       "    </tr>\n",
       "    <tr>\n",
       "      <th>R^2 on test set</th>\n",
       "      <td>0.890330</td>\n",
       "      <td>0.850822</td>\n",
       "    </tr>\n",
       "    <tr>\n",
       "      <th>number of features used</th>\n",
       "      <td>85.000000</td>\n",
       "      <td>23.000000</td>\n",
       "    </tr>\n",
       "  </tbody>\n",
       "</table>\n",
       "</div>"
      ],
      "text/plain": [
       "                           model 1 - linear regression in Q1  \\\n",
       "R^2 on train set                                    0.902304   \n",
       "Adjusted R^2 on train set                           0.897515   \n",
       "R^2 on test set                                     0.890330   \n",
       "number of features used                            85.000000   \n",
       "\n",
       "                           model 3 - lasso regression in Q3  \n",
       "R^2 on train set                                   0.858410  \n",
       "Adjusted R^2 on train set                          0.856597  \n",
       "R^2 on test set                                    0.850822  \n",
       "number of features used                           23.000000  "
      ]
     },
     "execution_count": 24,
     "metadata": {},
     "output_type": "execute_result"
    }
   ],
   "source": [
    "pd.DataFrame([[lm1_train_score, lasso_train_score],\n",
    "              [lm1_train_r2adj, lasso_train_r2adj], \n",
    "              [lm1_r2, lasso_test_score],\n",
    "              [coeff_used1, coeff_used3]],\n",
    "             columns = [\"model 1 - linear regression in Q1\",\"model 3 - lasso regression in Q3\"], \n",
    "             index = [\"R^2 on train set\", \"Adjusted R^2 on train set\", \"R^2 on test set\", \"number of features used\"])"
   ]
  },
  {
   "cell_type": "markdown",
   "metadata": {},
   "source": [
    "# Q4\n",
    "\n",
    "try ridge regression with l2 loss function."
   ]
  },
  {
   "cell_type": "code",
   "execution_count": 25,
   "metadata": {},
   "outputs": [],
   "source": [
    "ridge = Ridge()\n",
    "ridge.fit(X_train,y_train)\n",
    "ridge1_predictions = ridge.predict(X_test)\n",
    "ridge_train_score=ridge.score(X_train,y_train)\n",
    "ridge_test_score=ridge.score(X_test,y_test)\n",
    "coeff_used4 = np.sum(ridge.coef_!=0)"
   ]
  },
  {
   "cell_type": "code",
   "execution_count": 26,
   "metadata": {},
   "outputs": [
    {
     "name": "stdout",
     "output_type": "stream",
     "text": [
      "ridge number of features used:  84\n",
      "ridge training score: 0.9021865500766303\n",
      "ridge test score:  0.8907064191902662\n"
     ]
    }
   ],
   "source": [
    "print(\"ridge number of features used: \", coeff_used4)\n",
    "print(\"ridge training score:\", ridge_train_score)\n",
    "print(\"ridge test score: \", ridge_test_score)"
   ]
  },
  {
   "cell_type": "code",
   "execution_count": 27,
   "metadata": {},
   "outputs": [
    {
     "data": {
      "text/html": [
       "<div>\n",
       "<style scoped>\n",
       "    .dataframe tbody tr th:only-of-type {\n",
       "        vertical-align: middle;\n",
       "    }\n",
       "\n",
       "    .dataframe tbody tr th {\n",
       "        vertical-align: top;\n",
       "    }\n",
       "\n",
       "    .dataframe thead th {\n",
       "        text-align: right;\n",
       "    }\n",
       "</style>\n",
       "<table border=\"1\" class=\"dataframe\">\n",
       "  <thead>\n",
       "    <tr style=\"text-align: right;\">\n",
       "      <th></th>\n",
       "      <th>model 1 - linear regression in Q1</th>\n",
       "      <th>model 3 - lasso regression in Q3</th>\n",
       "      <th>model 4 - ridge regression in Q4</th>\n",
       "    </tr>\n",
       "  </thead>\n",
       "  <tbody>\n",
       "    <tr>\n",
       "      <th>R^2 on train set</th>\n",
       "      <td>0.902304</td>\n",
       "      <td>0.858410</td>\n",
       "      <td>0.902187</td>\n",
       "    </tr>\n",
       "    <tr>\n",
       "      <th>Adjusted R^2 on train set</th>\n",
       "      <td>0.897515</td>\n",
       "      <td>0.856597</td>\n",
       "      <td>0.897451</td>\n",
       "    </tr>\n",
       "    <tr>\n",
       "      <th>R^2 on test set</th>\n",
       "      <td>0.890330</td>\n",
       "      <td>0.850822</td>\n",
       "      <td>0.890706</td>\n",
       "    </tr>\n",
       "    <tr>\n",
       "      <th>number of features used</th>\n",
       "      <td>85.000000</td>\n",
       "      <td>23.000000</td>\n",
       "      <td>84.000000</td>\n",
       "    </tr>\n",
       "  </tbody>\n",
       "</table>\n",
       "</div>"
      ],
      "text/plain": [
       "                           model 1 - linear regression in Q1  \\\n",
       "R^2 on train set                                    0.902304   \n",
       "Adjusted R^2 on train set                           0.897515   \n",
       "R^2 on test set                                     0.890330   \n",
       "number of features used                            85.000000   \n",
       "\n",
       "                           model 3 - lasso regression in Q3  \\\n",
       "R^2 on train set                                   0.858410   \n",
       "Adjusted R^2 on train set                          0.856597   \n",
       "R^2 on test set                                    0.850822   \n",
       "number of features used                           23.000000   \n",
       "\n",
       "                           model 4 - ridge regression in Q4  \n",
       "R^2 on train set                                   0.902187  \n",
       "Adjusted R^2 on train set                          0.897451  \n",
       "R^2 on test set                                    0.890706  \n",
       "number of features used                           84.000000  "
      ]
     },
     "execution_count": 27,
     "metadata": {},
     "output_type": "execute_result"
    }
   ],
   "source": [
    "ridge_train_r2adj = 1-(1-ridge_train_score)*((len(X_train)-1)/(len(X_train)-coeff_used4-1))\n",
    "pd.DataFrame([[lm1_train_score, lasso_train_score,ridge_train_score],\n",
    "              [lm1_train_r2adj, lasso_train_r2adj,ridge_train_r2adj], \n",
    "              [lm1_r2, lasso_test_score,ridge_test_score],\n",
    "              [coeff_used1, coeff_used3,coeff_used4]],\n",
    "             columns = [\"model 1 - linear regression in Q1\",\"model 3 - lasso regression in Q3\",\"model 4 - ridge regression in Q4\"], \n",
    "             index = [\"R^2 on train set\", \"Adjusted R^2 on train set\", \"R^2 on test set\", \"number of features used\"])"
   ]
  },
  {
   "cell_type": "markdown",
   "metadata": {},
   "source": [
    "# Q5\n",
    "##### fit a Lasso regression to predict the overall scores of players with an ideal value for alpha. "
   ]
  },
  {
   "cell_type": "code",
   "execution_count": 28,
   "metadata": {},
   "outputs": [
    {
     "name": "stderr",
     "output_type": "stream",
     "text": [
      "/Users/dengguanying/anaconda3/lib/python3.7/site-packages/sklearn/linear_model/_coordinate_descent.py:476: ConvergenceWarning: Objective did not converge. You might want to increase the number of iterations. Duality gap: 3411.6760865910073, tolerance: 7.077029670329669\n",
      "  positive)\n",
      "/Users/dengguanying/anaconda3/lib/python3.7/site-packages/sklearn/linear_model/_coordinate_descent.py:476: ConvergenceWarning: Objective did not converge. You might want to increase the number of iterations. Duality gap: 3427.8306434580218, tolerance: 7.259854670329671\n",
      "  positive)\n",
      "/Users/dengguanying/anaconda3/lib/python3.7/site-packages/sklearn/linear_model/_coordinate_descent.py:476: ConvergenceWarning: Objective did not converge. You might want to increase the number of iterations. Duality gap: 3315.408049015944, tolerance: 7.131133997252747\n",
      "  positive)\n",
      "/Users/dengguanying/anaconda3/lib/python3.7/site-packages/sklearn/linear_model/_coordinate_descent.py:476: ConvergenceWarning: Objective did not converge. You might want to increase the number of iterations. Duality gap: 3509.4035189724796, tolerance: 7.0043527472527485\n",
      "  positive)\n",
      "/Users/dengguanying/anaconda3/lib/python3.7/site-packages/sklearn/linear_model/_coordinate_descent.py:476: ConvergenceWarning: Objective did not converge. You might want to increase the number of iterations. Duality gap: 3514.898334264449, tolerance: 7.143148282967034\n",
      "  positive)\n",
      "/Users/dengguanying/anaconda3/lib/python3.7/site-packages/sklearn/linear_model/_coordinate_descent.py:476: ConvergenceWarning: Objective did not converge. You might want to increase the number of iterations. Duality gap: 3411.6490968277153, tolerance: 7.077029670329669\n",
      "  positive)\n",
      "/Users/dengguanying/anaconda3/lib/python3.7/site-packages/sklearn/linear_model/_coordinate_descent.py:476: ConvergenceWarning: Objective did not converge. You might want to increase the number of iterations. Duality gap: 3427.5764648373324, tolerance: 7.259854670329671\n",
      "  positive)\n",
      "/Users/dengguanying/anaconda3/lib/python3.7/site-packages/sklearn/linear_model/_coordinate_descent.py:476: ConvergenceWarning: Objective did not converge. You might want to increase the number of iterations. Duality gap: 3315.379193998726, tolerance: 7.131133997252747\n",
      "  positive)\n",
      "/Users/dengguanying/anaconda3/lib/python3.7/site-packages/sklearn/linear_model/_coordinate_descent.py:476: ConvergenceWarning: Objective did not converge. You might want to increase the number of iterations. Duality gap: 3508.9552025583625, tolerance: 7.0043527472527485\n",
      "  positive)\n",
      "/Users/dengguanying/anaconda3/lib/python3.7/site-packages/sklearn/linear_model/_coordinate_descent.py:476: ConvergenceWarning: Objective did not converge. You might want to increase the number of iterations. Duality gap: 3514.6417409054843, tolerance: 7.143148282967034\n",
      "  positive)\n",
      "/Users/dengguanying/anaconda3/lib/python3.7/site-packages/sklearn/linear_model/_coordinate_descent.py:476: ConvergenceWarning: Objective did not converge. You might want to increase the number of iterations. Duality gap: 3408.978425301079, tolerance: 7.077029670329669\n",
      "  positive)\n",
      "/Users/dengguanying/anaconda3/lib/python3.7/site-packages/sklearn/linear_model/_coordinate_descent.py:476: ConvergenceWarning: Objective did not converge. You might want to increase the number of iterations. Duality gap: 3402.5517410084217, tolerance: 7.259854670329671\n",
      "  positive)\n",
      "/Users/dengguanying/anaconda3/lib/python3.7/site-packages/sklearn/linear_model/_coordinate_descent.py:476: ConvergenceWarning: Objective did not converge. You might want to increase the number of iterations. Duality gap: 3312.5242950274574, tolerance: 7.131133997252747\n",
      "  positive)\n",
      "/Users/dengguanying/anaconda3/lib/python3.7/site-packages/sklearn/linear_model/_coordinate_descent.py:476: ConvergenceWarning: Objective did not converge. You might want to increase the number of iterations. Duality gap: 3464.992167182415, tolerance: 7.0043527472527485\n",
      "  positive)\n",
      "/Users/dengguanying/anaconda3/lib/python3.7/site-packages/sklearn/linear_model/_coordinate_descent.py:476: ConvergenceWarning: Objective did not converge. You might want to increase the number of iterations. Duality gap: 3489.1924641013266, tolerance: 7.143148282967034\n",
      "  positive)\n",
      "/Users/dengguanying/anaconda3/lib/python3.7/site-packages/sklearn/linear_model/_coordinate_descent.py:476: ConvergenceWarning: Objective did not converge. You might want to increase the number of iterations. Duality gap: 61.540760697593214, tolerance: 7.131133997252747\n",
      "  positive)\n"
     ]
    }
   ],
   "source": [
    "lasso = Lasso()\n",
    "\n",
    "parameters = {'alpha': [1e-15, 1e-10, 1e-8, 1e-4, 1e-3, 3e-3, 4e-3, 5e-3, 7e-3, 1e-2, 0.05, 0.1, 1, 5, 10, 20]}\n",
    "\n",
    "lasso_regressor = GridSearchCV(lasso, parameters, cv = 5)\n",
    "\n",
    "lasso_regressor.fit(X_train, y_train);  # lasso_regressor is only a GridSearchCV function, the searching process starts here."
   ]
  },
  {
   "cell_type": "code",
   "execution_count": 29,
   "metadata": {},
   "outputs": [
    {
     "data": {
      "text/plain": [
       "{'alpha': 0.004}"
      ]
     },
     "execution_count": 29,
     "metadata": {},
     "output_type": "execute_result"
    }
   ],
   "source": [
    "lasso_regressor.best_params_   #  the best alpha parameter found in GridSearchCV = 0.01"
   ]
  },
  {
   "cell_type": "code",
   "execution_count": 30,
   "metadata": {},
   "outputs": [],
   "source": [
    "train_score_gscv = lasso_regressor.score(X_train,y_train)  \n",
    "# the score can only be obtained from a GridSearchCV after running lasso_regressor.fit(... , ...)\n",
    "# = lasso_regressor.best_estimator_.fit(X_train, y_train).score(X_train, y_train)\n",
    "test_score_gscv = lasso_regressor.score(X_test,y_test)\n",
    "coeff_used5 = np.sum(lasso_regressor.best_estimator_.coef_!=0)\n",
    "\n",
    "train_r2adj_gscv = 1-(1-train_score_gscv)*((len(X_train)-1)/(len(X_train)-coeff_used5-1))\n",
    "lasso2_predictions = lasso_regressor.predict(X_test)"
   ]
  },
  {
   "cell_type": "code",
   "execution_count": 31,
   "metadata": {},
   "outputs": [
    {
     "data": {
      "text/html": [
       "<div>\n",
       "<style scoped>\n",
       "    .dataframe tbody tr th:only-of-type {\n",
       "        vertical-align: middle;\n",
       "    }\n",
       "\n",
       "    .dataframe tbody tr th {\n",
       "        vertical-align: top;\n",
       "    }\n",
       "\n",
       "    .dataframe thead th {\n",
       "        text-align: right;\n",
       "    }\n",
       "</style>\n",
       "<table border=\"1\" class=\"dataframe\">\n",
       "  <thead>\n",
       "    <tr style=\"text-align: right;\">\n",
       "      <th></th>\n",
       "      <th>model 1 - linear regression in Q1</th>\n",
       "      <th>model 3 - lasso regression in Q3</th>\n",
       "      <th>model 5 - lasso regression with ideal alpha in Q5</th>\n",
       "    </tr>\n",
       "  </thead>\n",
       "  <tbody>\n",
       "    <tr>\n",
       "      <th>R^2 on train set</th>\n",
       "      <td>0.902304</td>\n",
       "      <td>0.858410</td>\n",
       "      <td>0.901005</td>\n",
       "    </tr>\n",
       "    <tr>\n",
       "      <th>Adjusted R^2 on train set</th>\n",
       "      <td>0.897515</td>\n",
       "      <td>0.856597</td>\n",
       "      <td>0.897453</td>\n",
       "    </tr>\n",
       "    <tr>\n",
       "      <th>R^2 on test set</th>\n",
       "      <td>0.890330</td>\n",
       "      <td>0.850822</td>\n",
       "      <td>0.890345</td>\n",
       "    </tr>\n",
       "    <tr>\n",
       "      <th>number of features used</th>\n",
       "      <td>85.000000</td>\n",
       "      <td>23.000000</td>\n",
       "      <td>63.000000</td>\n",
       "    </tr>\n",
       "  </tbody>\n",
       "</table>\n",
       "</div>"
      ],
      "text/plain": [
       "                           model 1 - linear regression in Q1  \\\n",
       "R^2 on train set                                    0.902304   \n",
       "Adjusted R^2 on train set                           0.897515   \n",
       "R^2 on test set                                     0.890330   \n",
       "number of features used                            85.000000   \n",
       "\n",
       "                           model 3 - lasso regression in Q3  \\\n",
       "R^2 on train set                                   0.858410   \n",
       "Adjusted R^2 on train set                          0.856597   \n",
       "R^2 on test set                                    0.850822   \n",
       "number of features used                           23.000000   \n",
       "\n",
       "                           model 5 - lasso regression with ideal alpha in Q5  \n",
       "R^2 on train set                                                    0.901005  \n",
       "Adjusted R^2 on train set                                           0.897453  \n",
       "R^2 on test set                                                     0.890345  \n",
       "number of features used                                            63.000000  "
      ]
     },
     "execution_count": 31,
     "metadata": {},
     "output_type": "execute_result"
    }
   ],
   "source": [
    "pd.DataFrame([[lm1_train_score, lasso_train_score, train_score_gscv],\n",
    "              [lm1_train_r2adj, lasso_train_r2adj, train_r2adj_gscv], \n",
    "              [lm1_r2, lasso_test_score, test_score_gscv],\n",
    "              [coeff_used1, coeff_used3, coeff_used5]],\n",
    "             columns = [\"model 1 - linear regression in Q1\",\"model 3 - lasso regression in Q3\", \"model 5 - lasso regression with ideal alpha in Q5\"], \n",
    "             index = [\"R^2 on train set\", \"Adjusted R^2 on train set\", \"R^2 on test set\", \"number of features used\"])\n"
   ]
  },
  {
   "cell_type": "markdown",
   "metadata": {},
   "source": [
    "# Q6\n",
    "##### Calculate AIC and BIC for the models you built in question 1 and question 4."
   ]
  },
  {
   "cell_type": "code",
   "execution_count": 32,
   "metadata": {},
   "outputs": [],
   "source": [
    "def AIC(y_true, y_hat, coeff_used):\n",
    "    resid = y_true - y_hat\n",
    "    sse = sum(resid**2)\n",
    "    n = len(y_hat)\n",
    "    return n*np.log(sse/n) + 2*coeff_used\n",
    "\n",
    "def BIC(y_true, y_hat, coeff_used):\n",
    "    resid = y_true - y_hat\n",
    "    sse = sum(resid**2)\n",
    "    n = len(y_hat)\n",
    "    return n*np.log(sse/n) + np.log(n)*coeff_used"
   ]
  },
  {
   "cell_type": "code",
   "execution_count": 33,
   "metadata": {},
   "outputs": [
    {
     "name": "stdout",
     "output_type": "stream",
     "text": [
      "27251.362641295524\n",
      "27913.927592318498\n"
     ]
    }
   ],
   "source": [
    "#aic and bic of simple linear model in Q1\n",
    "aic_lm1 = AIC(y_test, lm1_predictions, (coeff_used1+1))\n",
    "print(aic_lm1)\n",
    "bic_lm1 = BIC(y_test, lm1_predictions, (coeff_used1+1))\n",
    "print(bic_lm1)\n",
    "aicc_lm1 = aic_lm1 + 2*(coeff_used1**2 + coeff_used1)/(len(X_test)-coeff_used1-1)"
   ]
  },
  {
   "cell_type": "code",
   "execution_count": 34,
   "metadata": {},
   "outputs": [
    {
     "name": "stdout",
     "output_type": "stream",
     "text": [
      "27205.120053294093\n",
      "27698.191644753053\n"
     ]
    }
   ],
   "source": [
    "#aic and bic of lasso model\n",
    "aic_lasso2 = AIC(y_test, lasso2_predictions, (coeff_used5+1))\n",
    "print(aic_lasso2)\n",
    "bic_lasso2 = BIC(y_test, lasso2_predictions, (coeff_used5+1))\n",
    "print(bic_lasso2)\n",
    "aicc_lasso2 = aic_lasso2 + 2*(coeff_used5**2 + coeff_used5)/(len(X_test)-coeff_used5-1)"
   ]
  },
  {
   "cell_type": "code",
   "execution_count": 35,
   "metadata": {},
   "outputs": [
    {
     "data": {
      "text/html": [
       "<div>\n",
       "<style scoped>\n",
       "    .dataframe tbody tr th:only-of-type {\n",
       "        vertical-align: middle;\n",
       "    }\n",
       "\n",
       "    .dataframe tbody tr th {\n",
       "        vertical-align: top;\n",
       "    }\n",
       "\n",
       "    .dataframe thead th {\n",
       "        text-align: right;\n",
       "    }\n",
       "</style>\n",
       "<table border=\"1\" class=\"dataframe\">\n",
       "  <thead>\n",
       "    <tr style=\"text-align: right;\">\n",
       "      <th></th>\n",
       "      <th>model 1 - linear regression in Q1</th>\n",
       "      <th>model 5 - lasso regression with ideal alpha in Q5</th>\n",
       "    </tr>\n",
       "  </thead>\n",
       "  <tbody>\n",
       "    <tr>\n",
       "      <th>R^2 on train set</th>\n",
       "      <td>0.902304</td>\n",
       "      <td>0.901005</td>\n",
       "    </tr>\n",
       "    <tr>\n",
       "      <th>Adjusted R^2 on train set</th>\n",
       "      <td>0.897515</td>\n",
       "      <td>0.897453</td>\n",
       "    </tr>\n",
       "    <tr>\n",
       "      <th>R^2 on test set</th>\n",
       "      <td>0.890330</td>\n",
       "      <td>0.890345</td>\n",
       "    </tr>\n",
       "    <tr>\n",
       "      <th>number of features used</th>\n",
       "      <td>85.000000</td>\n",
       "      <td>63.000000</td>\n",
       "    </tr>\n",
       "    <tr>\n",
       "      <th>AIC</th>\n",
       "      <td>27251.362641</td>\n",
       "      <td>27205.120053</td>\n",
       "    </tr>\n",
       "    <tr>\n",
       "      <th>BIC</th>\n",
       "      <td>27913.927592</td>\n",
       "      <td>27698.191645</td>\n",
       "    </tr>\n",
       "    <tr>\n",
       "      <th>AICc</th>\n",
       "      <td>27252.259519</td>\n",
       "      <td>27205.614080</td>\n",
       "    </tr>\n",
       "  </tbody>\n",
       "</table>\n",
       "</div>"
      ],
      "text/plain": [
       "                           model 1 - linear regression in Q1  \\\n",
       "R^2 on train set                                    0.902304   \n",
       "Adjusted R^2 on train set                           0.897515   \n",
       "R^2 on test set                                     0.890330   \n",
       "number of features used                            85.000000   \n",
       "AIC                                             27251.362641   \n",
       "BIC                                             27913.927592   \n",
       "AICc                                            27252.259519   \n",
       "\n",
       "                           model 5 - lasso regression with ideal alpha in Q5  \n",
       "R^2 on train set                                                    0.901005  \n",
       "Adjusted R^2 on train set                                           0.897453  \n",
       "R^2 on test set                                                     0.890345  \n",
       "number of features used                                            63.000000  \n",
       "AIC                                                             27205.120053  \n",
       "BIC                                                             27698.191645  \n",
       "AICc                                                            27205.614080  "
      ]
     },
     "execution_count": 35,
     "metadata": {},
     "output_type": "execute_result"
    }
   ],
   "source": [
    "pd.DataFrame([[lm1_train_score, train_score_gscv],\n",
    "              [lm1_train_r2adj, train_r2adj_gscv], \n",
    "              [lm1_r2, test_score_gscv],\n",
    "              [coeff_used1, coeff_used5],\n",
    "              [aic_lm1, aic_lasso2],\n",
    "              [bic_lm1, bic_lasso2],\n",
    "              [aicc_lm1, aicc_lasso2]],\n",
    "             columns = [\"model 1 - linear regression in Q1\", \"model 5 - lasso regression with ideal alpha in Q5\"], \n",
    "             index = [\"R^2 on train set\", \"Adjusted R^2 on train set\", \"R^2 on test set\", \"number of features used\", \"AIC\",\"BIC\",\"AICc\"])\n"
   ]
  },
  {
   "cell_type": "code",
   "execution_count": null,
   "metadata": {},
   "outputs": [],
   "source": []
  },
  {
   "cell_type": "code",
   "execution_count": null,
   "metadata": {},
   "outputs": [],
   "source": []
  },
  {
   "cell_type": "code",
   "execution_count": null,
   "metadata": {},
   "outputs": [],
   "source": []
  },
  {
   "cell_type": "code",
   "execution_count": null,
   "metadata": {},
   "outputs": [],
   "source": []
  }
 ],
 "metadata": {
  "kernelspec": {
   "display_name": "Python 3",
   "language": "python",
   "name": "python3"
  },
  "language_info": {
   "codemirror_mode": {
    "name": "ipython",
    "version": 3
   },
   "file_extension": ".py",
   "mimetype": "text/x-python",
   "name": "python",
   "nbconvert_exporter": "python",
   "pygments_lexer": "ipython3",
   "version": "3.7.3"
  },
  "toc": {
   "base_numbering": 1,
   "nav_menu": {},
   "number_sections": true,
   "sideBar": true,
   "skip_h1_title": false,
   "title_cell": "Table of Contents",
   "title_sidebar": "Contents",
   "toc_cell": false,
   "toc_position": {},
   "toc_section_display": true,
   "toc_window_display": false
  },
  "varInspector": {
   "cols": {
    "lenName": 16,
    "lenType": 16,
    "lenVar": 40
   },
   "kernels_config": {
    "python": {
     "delete_cmd_postfix": "",
     "delete_cmd_prefix": "del ",
     "library": "var_list.py",
     "varRefreshCmd": "print(var_dic_list())"
    },
    "r": {
     "delete_cmd_postfix": ") ",
     "delete_cmd_prefix": "rm(",
     "library": "var_list.r",
     "varRefreshCmd": "cat(var_dic_list()) "
    }
   },
   "types_to_exclude": [
    "module",
    "function",
    "builtin_function_or_method",
    "instance",
    "_Feature"
   ],
   "window_display": false
  }
 },
 "nbformat": 4,
 "nbformat_minor": 2
}
